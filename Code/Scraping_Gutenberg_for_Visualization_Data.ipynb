{
  "nbformat": 4,
  "nbformat_minor": 0,
  "metadata": {
    "colab": {
      "name": "Scraping Gutenberg for Visualization Data.ipynb",
      "provenance": [],
      "collapsed_sections": []
    },
    "kernelspec": {
      "name": "python3",
      "display_name": "Python 3"
    }
  },
  "cells": [
    {
      "cell_type": "code",
      "metadata": {
        "id": "QzJ2cDJCQte6",
        "colab_type": "code",
        "colab": {
          "base_uri": "https://localhost:8080/",
          "height": 35
        },
        "outputId": "cd505b2b-c178-43c6-d1ed-9ca386f694e6"
      },
      "source": [
        "# This entire notebook was written by Jerry (`book_details` provided by Everett)\n",
        "\n",
        "import requests\n",
        "import re\n",
        "from bs4 import BeautifulSoup\n",
        "import string\n",
        "from time import sleep\n",
        "from collections import namedtuple\n",
        "from google.colab import drive\n",
        "from google.colab import drive\n",
        "drive.mount('/gdrive')\n",
        "\n",
        "urls = [\n",
        "    'https://www.gutenberg.org/cache/epub/9902/pg9902.html', # The Middle of Things\n",
        "    'https://www.gutenberg.org/cache/epub/9807/pg9807.html', # Scarhaven Keep\n",
        "    'https://www.gutenberg.org/cache/epub/9834/pg9834.html', # The Talleyrand Maxim\n",
        "    'https://www.gutenberg.org/cache/epub/10373/pg10373.html', # The Middle Temple Murder\n",
        "    'http://www.gutenberg.org/cache/epub/12239/pg12239.html' # Dead Men's Money\n",
        "]"
      ],
      "execution_count": null,
      "outputs": [
        {
          "output_type": "stream",
          "text": [
            "Mounted at /gdrive\n"
          ],
          "name": "stdout"
        }
      ]
    },
    {
      "cell_type": "code",
      "metadata": {
        "id": "LQIzv3l0RD5l",
        "colab_type": "code",
        "colab": {}
      },
      "source": [
        "book_details = {\n",
        "    \"The Middle of Things\": {\n",
        "        \"Detective\": \"Viner\",\n",
        "        \"Perp\": \"Cortelyon\", # text=Cortelyon saw that by killing Ashton he alone would have the secret; he evidently got two accomplices who were necessary to him\n",
        "        # Cave (Nugent Starr) and Killenhall, his accomplices\n",
        "        \"Crime\": \"murder\", #chapter 1 last sentence. Text=Then he saw white linen, and a bloodstain slowly spreading over its glossy surface.\n",
        "        \"Other Suspects\": \"Penkridge\",\n",
        "        \"Victim\": \"Richard Ashton\",\n",
        "        \"Characters\": ['Viner', 'Pawle', 'Ashton', 'Carless', 'Wickham', 'Hyde', #victim\n",
        "                       'Marketstoke', 'Ellingham', 'Drillford', 'Killenhall', \n",
        "                       'Methley', 'Perkwite', 'Miss Wickham', 'Felpham', \n",
        "                       'John Ashton', 'Cave', 'Miss Penkridge', 'Fosdick', \n",
        "                       'Millington-Bywater', 'Cortelyon', 'Armitstead', 'Barleyfield', # perp\n",
        "                       'Summers', 'Van Hoeren', 'Millwaters', 'Woodlesford', 'Penkridge', \n",
        "                       'Stephens', 'Portlethwaite', 'Martincole', 'Richard', 'Bigglesforth', \n",
        "                       'Driver', 'Nugent Starr', 'Avice', 'Pelver', 'Earl', 'Langton Hyde',\n",
        "                       'Roscombe', 'Langton', 'Lincoln']\n",
        "    },\n",
        "    \"The Middle Temple Murder\" : {\n",
        "        \"Detective\": \"Frank Spargo|Frank|Spargo\", # \"Frank Spargo\",\n",
        "        \"Perp\": \"Jane Baylis|Miss Baylis\", # Jane Baylis murdered John Maitland\n",
        "        \"Crime\": \"murder\", # john maitland a bank manager charged with embezzlement. changed his name. had a son named Breton. then was killed at cardlestone/Chamberlayne's\n",
        "        \"Other Suspects\": \"Stephen Aylmore|Chamberlayne|Myerst\",\n",
        "        \"Victim\": \"John Maitland|John Marbury\", # john marbury is maitland he changed his name\n",
        "        \"Characters\": ['Spargo', 'Breton', 'Marbury', 'Elphick', 'Aylmore', 'Maitland', \n",
        "                       'Rathbury', 'Quarterpage', 'Cardlestone', 'Myerst', 'Baylis', 'John Marbury', # victim\n",
        "                       'John Maitland', 'Ronald Breton', 'Walters', 'Criedir', 'Gutch', 'Driscoll', # victim\n",
        "                       'Mother Gutch', 'Webster', 'Anderson', 'Jane Baylis', 'Mollison', 'Jessie Aylmore', #perp\n",
        "                       'Starkey', 'Jessie', 'Stephen Aylmore', 'Evelyn', 'Cooper', 'Ronald', 'Crowfoot', 'Doolittle', \n",
        "                       'Ainsworth', 'David Lyell', 'Vallas', 'Kaye', 'Stephens', 'Septimus Elphick', 'Miss Baylis', \n",
        "                       'Robertson', 'Lyell']\n",
        "    },\n",
        "    \"Scarhaven Keep\" : {\n",
        "        \"Detective\": \"Richard Copplestone|Copplestone\", \n",
        "        \"Perp\": \"Peter Chatfield|Addie Chatfield|Addie|Martin|Andrius|Martin Andrius\", # Martin, Addie Chatfield\n",
        "        \"Crime\": \"murder|fraud\", # plot twist. originally they are investigating the murder of basset oliver. this turns out to be an accident not murder.\n",
        "        \"Other Suspects\": \"Audrey Greyle\",\n",
        "        \"Victim\": \"Audrey Greyle\", \n",
        "        \"Characters\": ['Copplestone', 'Greyle', 'Gilling', 'Chatfield', 'Vickers', \n",
        "                       'Audrey', 'Marston Greyle', 'Bassett Oliver', 'Cresswell', 'Oliver', # victim\n",
        "                       'Stafford', 'Petherton', 'Wooler', 'Addie', 'Dennie', 'Cresswell Oliver', \n",
        "                       'Peter Chatfield', 'Spurge', 'Andrius', 'Pike', 'Ewbank', 'Addie Chatfield', # perp\n",
        "                       'Zachary Spurge', 'Scarhaven', 'Squire', 'Jim', 'Peter', 'Altmore', 'Audrey Greyle', \n",
        "                       'Bassett', 'Martin', 'Rothwell', 'Montmorency', 'Hackett', 'Miss Greyle', 'Glen', 'Salmon', \n",
        "                       'Jerramy', 'Elkin', 'Hobkin', 'Tretheway', 'Valdey', 'Jim Spurge', 'Valentine Greyle', 'Stephen John']\n",
        "    }, \n",
        "    \"The Talleyrand Maxim\": {\n",
        "        \"Detective\": \"Linford Pratt|Pratt\", # detective commits suicide at the end of the book\n",
        "        \"Perp\": \"Harper Mallathorpe|Harper|Mallathorpe\",\n",
        "        \"Crime\": \"murder\",  # plot twist initially they investigate a murder, but it turns out the man left town and went to america\n",
        "        #harper destroyed her husband's will because he left his money to a charity\n",
        "        \"Other Suspects\": \"Nesta\",\n",
        "        \"Victim\": \"John Mallathorpe\",\n",
        "        \"Location\": \"Barford\",\n",
        "        \"Characters\": ['Pratt', 'Eldrick', 'Collingwood', 'Mallathorpe', # includes the entire mallathrope family\n",
        "                       'Nesta', 'Parrawhite', 'Murgatroyd', 'John Mallathorpe', #victim \n",
        "                       'Pickard', 'Byner', 'Esther Mawson', 'Bartle',\n",
        "                       'Antony Bartle', 'Cobcroft', 'Prydale', \n",
        "                       'Nesta Mallathorpe', 'Harper', 'Robson', 'Normandale Grange',\n",
        "                       'Esther', 'Linford Pratt', 'Miss Mallathorpe', 'Harper Mallathorpe', # perp\n",
        "                       'Gaukrodger', 'James Parrawhite', 'Marshall', 'Barford', 'Pascoe', \n",
        "                       'Jabey Naylor', 'Parsons', 'Clough', 'Stringer', \n",
        "                       'Shepherd', 'Bartle Collingwood']\n",
        "    },\n",
        "    \"Dead Men's Money\": {\n",
        "        \"Detective\": \"Hugh Moneylaw|Hugh|Moneylaw\", # hugh is writing the story in first person\n",
        "        \"Perp\": \"Gilbert Carstairs|Meekin\", # Meek\n",
        "        \"Crime\": \"murder\", # Meekin impersonates Gilbert Carstairs and steals his money. \n",
        "        # a few people find out about it and want to be paid off. meekin kills them\n",
        "        \"Other Suspects\": \"\",\n",
        "        \"Victim\": \"Crone\",\n",
        "        \"Characters\": ['Lindsey', 'Gilbert', 'Portlethorpe',\n",
        "                       'Chisholm', 'Gilverthwaite', 'Gilbert Carstairs',\n",
        "                       'Crone', 'Phillips', 'Maisie', 'Smeaton', 'Murray', #victim\n",
        "                       'Hugh', 'Hollins', 'Moneylaws', 'Michael Carstairs',\n",
        "                       'Carstairs', 'Ridley', 'Ralston', 'Gavin Smeaton', \n",
        "                       'John Phillips', 'James Gilverthwaite', 'Lady Carstairs',\n",
        "                       'Peebles', 'Elphinstone', 'Andrew Dunlop', 'Abel Crone',\n",
        "                       'Michael', 'Paley', 'Hanson', 'Carter', 'Alexander', \n",
        "                       'Maisie Dunlop', 'Meekin', 'Nance Maguire', 'Hathercleugh', #perp\n",
        "                       'Dunlop', 'John Paley', 'Robertson', 'Tom Dunlop', \n",
        "                       'Hugh Moneylaws', 'Scott', 'Watson', 'Martin Smeaton', \n",
        "                       'Turndale']\n",
        "    }\n",
        "}"
      ],
      "execution_count": null,
      "outputs": []
    },
    {
      "cell_type": "code",
      "metadata": {
        "id": "oQzNM5RhLhfk",
        "colab_type": "code",
        "colab": {}
      },
      "source": [
        "# Causes output text to wrap in output cells\n",
        "from IPython.display import HTML, display\n",
        "\n",
        "def set_css():\n",
        "  display(HTML('''\n",
        "  <style>\n",
        "    pre {\n",
        "        white-space: pre-wrap;\n",
        "    }\n",
        "  </style>\n",
        "  '''))\n",
        "get_ipython().events.register('pre_run_cell', set_css)"
      ],
      "execution_count": null,
      "outputs": []
    },
    {
      "cell_type": "code",
      "metadata": {
        "id": "ac5NH82wa0Qi",
        "colab_type": "code",
        "colab": {
          "base_uri": "https://localhost:8080/",
          "height": 17
        },
        "outputId": "d5236c83-090f-47c0-a4f4-0627c1319bf1"
      },
      "source": [
        "Match = namedtuple('Match', ['chapter_number', 'sentence_number', 'matches', 'text'])\n",
        "\n",
        "\n",
        "class Scraper:\n",
        "    def __init__(self, urls):\n",
        "        self.urls = urls\n",
        "\n",
        "    def scrape(self, *, responses=None):\n",
        "        books = []\n",
        "        responses = [requests.get(url) for url in self.urls] if responses is None else responses\n",
        "\n",
        "        for response in responses:\n",
        "\n",
        "            positions = [\n",
        "                         response.text.find(\"***END\"),\n",
        "                         response.text.find(\"THE END\")\n",
        "                        ]\n",
        "            end_pos = min([pos for pos in positions if pos > 0])\n",
        "            book_html = response.text[:end_pos]\n",
        "\n",
        "            def search(pattern):\n",
        "                return re.search(pattern, book_html).group(1)\n",
        "\n",
        "            title = search('Title: ([^\\<]*)')\n",
        "            author = search('Author: ([^\\<]*)')\n",
        "            release = search('Release Date: ([A-Za-z]*[\\s0-9]*?, [0-9]*)')\n",
        "\n",
        "            soup = BeautifulSoup(book_html)\n",
        "\n",
        "            chapters = self.find_chapters(soup)\n",
        "\n",
        "            books.append(Book(author, chapters, release, title))\n",
        "\n",
        "        return books\n",
        "\n",
        "    def find_chapters(self, soup):\n",
        "        chapters = []\n",
        "        chapter_tags = soup.find_all(\n",
        "            re.compile(\"(h2|h3)\"),\n",
        "            string=re.compile(\"CHAPTER\")\n",
        "        )\n",
        "        for chapter_number, chapter_tag in enumerate(chapter_tags, start=1):\n",
        "            chapter_text = []\n",
        "            chapter_title = None\n",
        "            for i, sibling in enumerate(chapter_tag.next_siblings):\n",
        "                if i == 1:\n",
        "                    chapter_title = string.capwords(sibling.text)\n",
        "                elif sibling.name == 'p':\n",
        "                    chapter_text.append(sibling.text)\n",
        "                elif sibling.name == 'h2':\n",
        "                    break\n",
        "                else:\n",
        "                    continue\n",
        "\n",
        "            chapters.append(\n",
        "                Chapter(chapter_title, chapter_number, chapter_text)\n",
        "            )\n",
        "\n",
        "        return chapters\n",
        "\n",
        "class Chapter:\n",
        "    def __init__(self, title, number, text):\n",
        "        self.title = title\n",
        "        self.number = number\n",
        "        self.text = self.clean(text)\n",
        "\n",
        "    def find(self, pattern):\n",
        "        all_matches = []\n",
        "        for sentence_number, sentence in self.sentences:\n",
        "            matches = list(re.finditer(pattern, sentence))\n",
        "            if len(matches):\n",
        "                all_matches.append(\n",
        "                    Match(self.number, sentence_number, matches, sentence)\n",
        "                )\n",
        "\n",
        "        return all_matches\n",
        "\n",
        "    @staticmethod\n",
        "    def clean(chapter_text):\n",
        "        chapter_text = ' '.join(chapter_text)\n",
        "        chapter_text = chapter_text.replace('\\r\\n', ' ')\n",
        "        return chapter_text\n",
        "\n",
        "    @property\n",
        "    def sentences(self):\n",
        "        '''\n",
        "        Splits the chapter text into sentences. This is a hard task so some decisions need to be made.\n",
        "\n",
        "        Case 1: (?<!\\w\\.\\w.)(?<![A-Z][a-z]\\.)(?<![A-Z][a-z][a-z]\\.)(?<=[.?!])\\s\n",
        "            (?<!\\w\\.\\w.): Negative lookbehind to prevent splitting on i.e. and e.g.\n",
        "        Python requires fixed width patterns for lookbehinds, so we have split these\n",
        "            (?<![A-Z][a-z]\\.): Negative lookbehind to prevent splitting on Mr.\n",
        "            (?<![A-Z][a-z][a-z]\\.): Negative lookbehind to prevent splitting on Mrs.\n",
        "            (?<=[.?!]): Positive lookbehind to make sure we're only splitting after ., ?, or !\n",
        "            \\s: Any white-space character\n",
        "        Case 2: (?<=[.?!][\\\"])\\s(?=[\\\"A-Z])\n",
        "            (?<=[.?!][\\\"]): Positive lookbehind to make sure we're only splitting after .\", ?\", or !\"\n",
        "            \\s: Any white-space character\n",
        "            (?=[\\\"A-Z]): Positive lookahead to make sure we're only splitting before \" or a capital letter\n",
        "\n",
        "        Examples:\n",
        "            ...a fashion which had become a habit. Miss Penkridge...\n",
        "                Sentence 1: ...a fashion which had become a habit.\n",
        "                Sentence 2: Miss Penkridge...\n",
        "            ...content. \"So he did it! Now, I should never have thought it! The last person...\n",
        "                Sentence 1: ...content.\n",
        "                Sentence 2: \"So he did it!\n",
        "                Sentence 3: Now, I should never have thought it!\n",
        "                Sentence 4: The last person...\n",
        "            ...this sort of stuff?\" \"Stuff?\" demanded Miss Penkridge, who had resumed her...\n",
        "                Sentence 1: ...this sort of stuff?\"\n",
        "                Sentence 2: \"Stuff?\" demanded Miss Penkridge, who had resumed her...\n",
        "        '''\n",
        "        splits = re.split('(?<!\\w\\.\\w.)(?<![A-Z][a-z]\\.)(?<![A-Z][a-z][a-z]\\.)(?<=[.?!])\\s|(?<=[.?!][\\\"])\\s(?=[\\\"A-Z])', self.text)\n",
        "        return zip(range(1, len(splits)+1), splits)\n",
        "\n",
        "    def __len__(self):\n",
        "        return len(list(self.sentences))\n",
        "\n",
        "    def __str__(self):\n",
        "        return self.title\n",
        "\n",
        "    def __repr__(self):\n",
        "        return (\n",
        "            f'Chapter {self.number}: {self.title}\\n'\n",
        "            f'Content: {self.text[:20]}...{self.text[-20:]}'\n",
        "        )\n",
        "\n",
        "class Book:\n",
        "    def __init__(self, author, chapters, release, title):\n",
        "        self.author = author\n",
        "        self.chapters = chapters\n",
        "        self.release = release\n",
        "        self.title = title\n",
        "\n",
        "    def find(self, pattern):\n",
        "        all_matches = []\n",
        "        for chapter in self.chapters:\n",
        "            matches = chapter.find(pattern)\n",
        "            if len(matches):\n",
        "                all_matches.extend(matches)\n",
        "\n",
        "        return all_matches\n",
        "\n",
        "    def __len__(self):\n",
        "        return len(self.chapters)\n",
        "\n",
        "    def __str__(self):\n",
        "        return self.title\n",
        "\n",
        "    def __repr__(self):\n",
        "        return (\n",
        "            f'{self.title} by {self.author}, '\n",
        "            f'released in {self.release} and '\n",
        "            f'contains {len(self)} chapters.'\n",
        "        )"
      ],
      "execution_count": null,
      "outputs": [
        {
          "output_type": "display_data",
          "data": {
            "text/html": [
              "\n",
              "  <style>\n",
              "    pre {\n",
              "        white-space: pre-wrap;\n",
              "    }\n",
              "  </style>\n",
              "  "
            ],
            "text/plain": [
              "<IPython.core.display.HTML object>"
            ]
          },
          "metadata": {
            "tags": []
          }
        }
      ]
    },
    {
      "cell_type": "code",
      "metadata": {
        "id": "qZ5A9FdOZUTq",
        "colab_type": "code",
        "colab": {
          "base_uri": "https://localhost:8080/",
          "height": 17
        },
        "outputId": "90818fc1-dc04-4815-abcb-50efc4a3cb40"
      },
      "source": [
        "# For debugging\n",
        "responses = [requests.get(url) for url in urls]"
      ],
      "execution_count": null,
      "outputs": [
        {
          "output_type": "display_data",
          "data": {
            "text/html": [
              "\n",
              "  <style>\n",
              "    pre {\n",
              "        white-space: pre-wrap;\n",
              "    }\n",
              "  </style>\n",
              "  "
            ],
            "text/plain": [
              "<IPython.core.display.HTML object>"
            ]
          },
          "metadata": {
            "tags": []
          }
        }
      ]
    },
    {
      "cell_type": "code",
      "metadata": {
        "id": "MoqvWs2rfe5b",
        "colab_type": "code",
        "colab": {
          "base_uri": "https://localhost:8080/",
          "height": 17
        },
        "outputId": "821f93d4-b72b-41dc-d8d4-ff366a836d27"
      },
      "source": [
        "scraper = Scraper(urls)\n",
        "books = scraper.scrape(responses=responses)"
      ],
      "execution_count": null,
      "outputs": [
        {
          "output_type": "display_data",
          "data": {
            "text/html": [
              "\n",
              "  <style>\n",
              "    pre {\n",
              "        white-space: pre-wrap;\n",
              "    }\n",
              "  </style>\n",
              "  "
            ],
            "text/plain": [
              "<IPython.core.display.HTML object>"
            ]
          },
          "metadata": {
            "tags": []
          }
        }
      ]
    },
    {
      "cell_type": "code",
      "metadata": {
        "id": "4ulZxoKGfj-3",
        "colab_type": "code",
        "colab": {
          "base_uri": "https://localhost:8080/",
          "height": 832
        },
        "outputId": "276a013d-c955-432b-ecb7-8d94cf5617b3"
      },
      "source": [
        "from collections import Counter\n",
        "\n",
        "detail_to_readable = {\n",
        "    'Detective': 'Detective',\n",
        "    'Crime': 'Crime',\n",
        "    'Perp': 'Perpetrator',\n",
        "    'Other Suspects': 'Other Suspects'\n",
        "}\n",
        "\n",
        "words_before = 3\n",
        "words_after = 3\n",
        "stats = []\n",
        "for book in books:\n",
        "    for detail in book_details[book.title]:\n",
        "        if detail in ['Detective', 'Crime', 'Perp', 'Other Suspects']:\n",
        "            pattern = book_details[book.title][detail]\n",
        "            raw_results = [(m.chapter_number, m.sentence_number) for m in book.find(f'(?i){pattern}')]\n",
        "            counter = Counter({i: 0 for i in range(1, len(book)+1)})\n",
        "            counter.update([result[0] for result in raw_results])\n",
        "            book_stats = {\n",
        "                'title': book.title,\n",
        "                'author': 'J.S. Fletcher',\n",
        "                'queryType': 'occurrences',\n",
        "                'query': pattern,\n",
        "                'question': detail_to_readable[detail],\n",
        "                'numChapters': len(book),\n",
        "                'results': dict(counter)\n",
        "            }\n",
        "            stats.append(book_stats)\n",
        "        if detail == 'Detective':\n",
        "            pattern = (\n",
        "                \"(\\w+)[^\\w]*\\s\" * words_before +\n",
        "                book_details[book.title][detail] +\n",
        "                \"\\s[^\\w]*(\\w+)\" * words_after\n",
        "            )\n",
        "            matches = book.find(pattern)\n",
        "            before_counters = [Counter() for _ in range(words_before)]\n",
        "            after_counters = [Counter() for _ in range(words_after)]\n",
        "            for match in matches:\n",
        "                for regex_match in match.matches:\n",
        "                    near_words = regex_match.groups()\n",
        "                    for i, word in enumerate(near_words):\n",
        "                        if word is None:\n",
        "                            continue\n",
        "                        if i < words_before:\n",
        "                            before_counters[i].update({ word })\n",
        "                        else:\n",
        "                            after_counters[i - words_before].update({ word })\n",
        "\n",
        "            after = [('', 0)] * len(after_counters)\n",
        "            for i, counter in enumerate(after_counters):\n",
        "                for word in counter.most_common(1):\n",
        "                    after[i] = word\n",
        "\n",
        "            book_stats = {\n",
        "                'title': book.title,\n",
        "                'author': 'J.S. Fletcher',\n",
        "                'queryType': 'nearby',\n",
        "                'query': book_details[book.title][detail],\n",
        "                'question': 'Nearby Words',\n",
        "                'numChapters': len(book),\n",
        "                'before': [word for counter in before_counters for word in counter.most_common(1)],\n",
        "                'after': after\n",
        "            }\n",
        "            stats.append(book_stats)\n",
        "\n",
        "\n",
        "\n",
        "print(stats)\n",
        "\n",
        "import json\n",
        "with open('/gdrive/My Drive/fletcher.json', 'w') as f:\n",
        "    json.dump(stats, f)"
      ],
      "execution_count": null,
      "outputs": [
        {
          "output_type": "display_data",
          "data": {
            "text/html": [
              "\n",
              "  <style>\n",
              "    pre {\n",
              "        white-space: pre-wrap;\n",
              "    }\n",
              "  </style>\n",
              "  "
            ],
            "text/plain": [
              "<IPython.core.display.HTML object>"
            ]
          },
          "metadata": {
            "tags": []
          }
        },
        {
          "output_type": "stream",
          "text": [
            "[{'title': 'The Middle of Things', 'author': 'J.S. Fletcher', 'queryType': 'occurrences', 'query': 'Viner', 'question': 'Detective', 'numChapters': 29, 'results': {1: 23, 2: 41, 3: 28, 4: 41, 5: 35, 6: 25, 7: 17, 8: 26, 9: 11, 10: 26, 11: 10, 12: 35, 13: 31, 14: 29, 15: 34, 16: 30, 17: 10, 18: 12, 19: 5, 20: 12, 21: 10, 22: 12, 23: 3, 24: 12, 25: 45, 26: 9, 27: 36, 28: 44, 29: 18}}, {'title': 'The Middle of Things', 'author': 'J.S. Fletcher', 'queryType': 'nearby', 'query': 'Viner', 'question': 'Nearby Words', 'numChapters': 29, 'before': [('the', 8), ('he', 6), ('and', 19)], 'after': [('had', 13), ('a', 14), ('to', 12)]}, {'title': 'The Middle of Things', 'author': 'J.S. Fletcher', 'queryType': 'occurrences', 'query': 'Cortelyon', 'question': 'Perpetrator', 'numChapters': 29, 'results': {1: 0, 2: 4, 3: 2, 4: 0, 5: 0, 6: 0, 7: 0, 8: 0, 9: 0, 10: 0, 11: 0, 12: 0, 13: 0, 14: 0, 15: 0, 16: 0, 17: 0, 18: 0, 19: 0, 20: 0, 21: 0, 22: 0, 23: 0, 24: 0, 25: 0, 26: 0, 27: 0, 28: 16, 29: 8}}, {'title': 'The Middle of Things', 'author': 'J.S. Fletcher', 'queryType': 'occurrences', 'query': 'murder', 'question': 'Crime', 'numChapters': 29, 'results': {1: 3, 2: 9, 3: 7, 4: 7, 5: 8, 6: 7, 7: 5, 8: 2, 9: 1, 10: 2, 11: 8, 12: 6, 13: 7, 14: 3, 15: 7, 16: 7, 17: 7, 18: 5, 19: 3, 20: 1, 21: 4, 22: 7, 23: 4, 24: 3, 25: 0, 26: 0, 27: 0, 28: 6, 29: 2}}, {'title': 'The Middle of Things', 'author': 'J.S. Fletcher', 'queryType': 'occurrences', 'query': 'Penkridge', 'question': 'Other Suspects', 'numChapters': 29, 'results': {1: 18, 2: 2, 3: 11, 4: 0, 5: 0, 6: 7, 7: 0, 8: 6, 9: 0, 10: 0, 11: 0, 12: 0, 13: 0, 14: 0, 15: 2, 16: 0, 17: 0, 18: 0, 19: 0, 20: 0, 21: 0, 22: 1, 23: 0, 24: 14, 25: 9, 26: 0, 27: 0, 28: 9, 29: 4}}, {'title': 'Scarhaven Keep', 'author': 'J.S. Fletcher', 'queryType': 'occurrences', 'query': 'Richard Copplestone|Copplestone', 'question': 'Detective', 'numChapters': 31, 'results': {1: 14, 2: 18, 3: 24, 4: 28, 5: 23, 6: 30, 7: 35, 8: 33, 9: 24, 10: 31, 11: 23, 12: 12, 13: 4, 14: 22, 15: 19, 16: 8, 17: 19, 18: 13, 19: 18, 20: 19, 21: 8, 22: 11, 23: 14, 24: 17, 25: 19, 26: 12, 27: 11, 28: 16, 29: 22, 30: 19, 31: 5}}, {'title': 'Scarhaven Keep', 'author': 'J.S. Fletcher', 'queryType': 'nearby', 'query': 'Richard Copplestone|Copplestone', 'question': 'Nearby Words', 'numChapters': 31, 'before': [('this', 1), ('is', 1), ('Mr', 1)], 'after': [('had', 18), ('the', 20), ('the', 9)]}, {'title': 'Scarhaven Keep', 'author': 'J.S. Fletcher', 'queryType': 'occurrences', 'query': 'Peter Chatfield|Addie Chatfield|Addie|Martin|Andrius|Martin Andrius', 'question': 'Perpetrator', 'numChapters': 31, 'results': {1: 1, 2: 0, 3: 0, 4: 2, 5: 1, 6: 15, 7: 0, 8: 5, 9: 2, 10: 1, 11: 0, 12: 1, 13: 0, 14: 1, 15: 0, 16: 3, 17: 9, 18: 2, 19: 4, 20: 22, 21: 6, 22: 3, 23: 2, 24: 2, 25: 2, 26: 1, 27: 2, 28: 0, 29: 8, 30: 10, 31: 41}}, {'title': 'Scarhaven Keep', 'author': 'J.S. Fletcher', 'queryType': 'occurrences', 'query': 'murder|fraud', 'question': 'Crime', 'numChapters': 31, 'results': {1: 0, 2: 0, 3: 0, 4: 1, 5: 0, 6: 0, 7: 0, 8: 0, 9: 0, 10: 0, 11: 0, 12: 0, 13: 0, 14: 0, 15: 1, 16: 2, 17: 0, 18: 2, 19: 0, 20: 1, 21: 0, 22: 0, 23: 3, 24: 0, 25: 1, 26: 0, 27: 0, 28: 0, 29: 0, 30: 3, 31: 0}}, {'title': 'Scarhaven Keep', 'author': 'J.S. Fletcher', 'queryType': 'occurrences', 'query': 'Audrey Greyle', 'question': 'Other Suspects', 'numChapters': 31, 'results': {1: 0, 2: 0, 3: 1, 4: 2, 5: 0, 6: 0, 7: 2, 8: 0, 9: 1, 10: 0, 11: 0, 12: 0, 13: 1, 14: 0, 15: 1, 16: 0, 17: 0, 18: 2, 19: 2, 20: 0, 21: 0, 22: 0, 23: 0, 24: 0, 25: 0, 26: 0, 27: 0, 28: 0, 29: 0, 30: 0, 31: 1}}, {'title': 'The Talleyrand Maxim', 'author': 'J.S. Fletcher', 'queryType': 'occurrences', 'query': 'Linford Pratt|Pratt', 'question': 'Detective', 'numChapters': 28, 'results': {1: 28, 2: 33, 3: 16, 4: 4, 5: 38, 6: 34, 7: 36, 8: 37, 9: 6, 10: 20, 11: 7, 12: 61, 13: 34, 14: 23, 15: 21, 16: 30, 17: 21, 18: 23, 19: 1, 20: 17, 21: 48, 22: 33, 23: 25, 24: 21, 25: 28, 26: 17, 27: 16, 28: 14}}, {'title': 'The Talleyrand Maxim', 'author': 'J.S. Fletcher', 'queryType': 'nearby', 'query': 'Linford Pratt|Pratt', 'question': 'Nearby Words', 'numChapters': 28, 'before': [('Barford', 2), ('to', 2), ('to', 3)], 'after': [('had', 37), ('to', 21), ('a', 14)]}, {'title': 'The Talleyrand Maxim', 'author': 'J.S. Fletcher', 'queryType': 'occurrences', 'query': 'Harper Mallathorpe|Harper|Mallathorpe', 'question': 'Perpetrator', 'numChapters': 28, 'results': {1: 16, 2: 18, 3: 9, 4: 38, 5: 46, 6: 4, 7: 5, 8: 28, 9: 10, 10: 18, 11: 13, 12: 47, 13: 35, 14: 24, 15: 9, 16: 16, 17: 6, 18: 2, 19: 21, 20: 0, 21: 12, 22: 3, 23: 0, 24: 0, 25: 14, 26: 2, 27: 20, 28: 37}}, {'title': 'The Talleyrand Maxim', 'author': 'J.S. Fletcher', 'queryType': 'occurrences', 'query': 'murder', 'question': 'Crime', 'numChapters': 28, 'results': {1: 0, 2: 0, 3: 0, 4: 0, 5: 0, 6: 0, 7: 2, 8: 1, 9: 0, 10: 0, 11: 0, 12: 0, 13: 0, 14: 0, 15: 3, 16: 0, 17: 0, 18: 0, 19: 0, 20: 0, 21: 4, 22: 0, 23: 1, 24: 0, 25: 0, 26: 2, 27: 0, 28: 2}}, {'title': 'The Talleyrand Maxim', 'author': 'J.S. Fletcher', 'queryType': 'occurrences', 'query': 'Nesta', 'question': 'Other Suspects', 'numChapters': 28, 'results': {1: 0, 2: 2, 3: 0, 4: 11, 5: 1, 6: 0, 7: 1, 8: 1, 9: 10, 10: 5, 11: 5, 12: 21, 13: 5, 14: 21, 15: 16, 16: 15, 17: 0, 18: 0, 19: 0, 20: 0, 21: 5, 22: 6, 23: 0, 24: 0, 25: 2, 26: 1, 27: 2, 28: 28}}, {'title': 'The Middle Temple Murder', 'author': 'J.S. Fletcher', 'queryType': 'occurrences', 'query': 'Frank Spargo|Frank|Spargo', 'question': 'Detective', 'numChapters': 36, 'results': {1: 29, 2: 31, 3: 40, 4: 6, 5: 32, 6: 34, 7: 37, 8: 23, 9: 33, 10: 27, 11: 14, 12: 6, 13: 3, 14: 41, 15: 35, 16: 26, 17: 28, 18: 2, 19: 23, 20: 25, 21: 29, 22: 37, 23: 31, 24: 29, 25: 18, 26: 30, 27: 32, 28: 39, 29: 31, 30: 36, 31: 26, 32: 27, 33: 31, 34: 35, 35: 19, 36: 21}}, {'title': 'The Middle Temple Murder', 'author': 'J.S. Fletcher', 'queryType': 'nearby', 'query': 'Frank Spargo|Frank|Spargo', 'question': 'Nearby Words', 'numChapters': 36, 'before': [('This', 1), ('is', 1), ('Mr', 2)], 'after': [('had', 25), ('the', 34), ('the', 32)]}, {'title': 'The Middle Temple Murder', 'author': 'J.S. Fletcher', 'queryType': 'occurrences', 'query': 'Jane Baylis|Miss Baylis', 'question': 'Perpetrator', 'numChapters': 36, 'results': {1: 0, 2: 0, 3: 0, 4: 0, 5: 0, 6: 0, 7: 0, 8: 0, 9: 0, 10: 0, 11: 0, 12: 0, 13: 0, 14: 0, 15: 0, 16: 0, 17: 0, 18: 0, 19: 4, 20: 0, 21: 4, 22: 0, 23: 13, 24: 10, 25: 5, 26: 6, 27: 11, 28: 2, 29: 1, 30: 1, 31: 0, 32: 0, 33: 0, 34: 0, 35: 0, 36: 5}}, {'title': 'The Middle Temple Murder', 'author': 'J.S. Fletcher', 'queryType': 'occurrences', 'query': 'murder', 'question': 'Crime', 'numChapters': 36, 'results': {1: 5, 2: 2, 3: 4, 4: 1, 5: 8, 6: 7, 7: 1, 8: 8, 9: 5, 10: 0, 11: 2, 12: 1, 13: 1, 14: 3, 15: 0, 16: 0, 17: 0, 18: 0, 19: 0, 20: 4, 21: 3, 22: 3, 23: 2, 24: 2, 25: 3, 26: 2, 27: 3, 28: 2, 29: 2, 30: 7, 31: 1, 32: 0, 33: 0, 34: 2, 35: 4, 36: 6}}, {'title': 'The Middle Temple Murder', 'author': 'J.S. Fletcher', 'queryType': 'occurrences', 'query': 'Stephen Aylmore|Chamberlayne|Myerst', 'question': 'Other Suspects', 'numChapters': 36, 'results': {1: 0, 2: 0, 3: 0, 4: 0, 5: 0, 6: 1, 7: 2, 8: 8, 9: 9, 10: 12, 11: 1, 12: 0, 13: 0, 14: 1, 15: 0, 16: 0, 17: 0, 18: 9, 19: 25, 20: 14, 21: 1, 22: 0, 23: 0, 24: 0, 25: 0, 26: 0, 27: 0, 28: 0, 29: 2, 30: 2, 31: 2, 32: 12, 33: 0, 34: 30, 35: 31, 36: 20}}, {'title': \"Dead Men's Money\", 'author': 'J.S. Fletcher', 'queryType': 'occurrences', 'query': 'Hugh Moneylaw|Hugh|Moneylaw', 'question': 'Detective', 'numChapters': 37, 'results': {1: 4, 2: 4, 3: 0, 4: 7, 5: 6, 6: 1, 7: 0, 8: 5, 9: 6, 10: 2, 11: 4, 12: 1, 13: 5, 14: 3, 15: 6, 16: 1, 17: 3, 18: 3, 19: 0, 20: 0, 21: 4, 22: 8, 23: 1, 24: 1, 25: 10, 26: 4, 27: 1, 28: 1, 29: 2, 30: 3, 31: 6, 32: 5, 33: 1, 34: 12, 35: 7, 36: 5, 37: 1}}, {'title': \"Dead Men's Money\", 'author': 'J.S. Fletcher', 'queryType': 'nearby', 'query': 'Hugh Moneylaw|Hugh|Moneylaw', 'question': 'Nearby Words', 'numChapters': 37, 'before': [('what', 1), ('the', 1), ('witness', 1)], 'after': [('', 0), ('', 0), ('', 0)]}, {'title': \"Dead Men's Money\", 'author': 'J.S. Fletcher', 'queryType': 'occurrences', 'query': 'Gilbert Carstairs|Meekin', 'question': 'Perpetrator', 'numChapters': 37, 'results': {1: 0, 2: 0, 3: 0, 4: 0, 5: 0, 6: 0, 7: 3, 8: 1, 9: 1, 10: 2, 11: 2, 12: 2, 13: 4, 14: 2, 15: 2, 16: 0, 17: 2, 18: 2, 19: 2, 20: 2, 21: 3, 22: 5, 23: 0, 24: 6, 25: 5, 26: 5, 27: 7, 28: 2, 29: 7, 30: 2, 31: 0, 32: 1, 33: 2, 34: 0, 35: 0, 36: 0, 37: 25}}, {'title': \"Dead Men's Money\", 'author': 'J.S. Fletcher', 'queryType': 'occurrences', 'query': 'murder', 'question': 'Crime', 'numChapters': 37, 'results': {1: 1, 2: 0, 3: 1, 4: 9, 5: 7, 6: 10, 7: 4, 8: 3, 9: 3, 10: 3, 11: 4, 12: 1, 13: 0, 14: 6, 15: 3, 16: 4, 17: 6, 18: 5, 19: 2, 20: 1, 21: 3, 22: 3, 23: 1, 24: 0, 25: 3, 26: 1, 27: 2, 28: 0, 29: 0, 30: 2, 31: 1, 32: 0, 33: 1, 34: 0, 35: 5, 36: 1, 37: 8}}, {'title': \"Dead Men's Money\", 'author': 'J.S. Fletcher', 'queryType': 'occurrences', 'query': '', 'question': 'Other Suspects', 'numChapters': 37, 'results': {1: 106, 2: 144, 3: 56, 4: 82, 5: 100, 6: 86, 7: 77, 8: 107, 9: 111, 10: 131, 11: 102, 12: 109, 13: 100, 14: 99, 15: 113, 16: 122, 17: 105, 18: 98, 19: 57, 20: 101, 21: 129, 22: 84, 23: 117, 24: 103, 25: 104, 26: 112, 27: 116, 28: 99, 29: 96, 30: 107, 31: 119, 32: 93, 33: 83, 34: 115, 35: 110, 36: 98, 37: 196}}]\n"
          ],
          "name": "stdout"
        }
      ]
    },
    {
      "cell_type": "code",
      "metadata": {
        "id": "tYL5skfIcNYw",
        "colab_type": "code",
        "colab": {
          "base_uri": "https://localhost:8080/",
          "height": 17
        },
        "outputId": "67709f01-519d-4cf9-9705-6834a3ad116a"
      },
      "source": [
        "\n",
        "\n",
        "patterns = ['Ashton', 'Stafford', 'Pratt', 'Driscoll', 'Gaffney']\n",
        "\n",
        "stats = []\n",
        "for pattern, book in zip(patterns, books):\n",
        "    book_stats = {'title': book.title}\n",
        "    book_stats['chapter_lengths'] = [len(chapter) for chapter in book.chapters]\n",
        "    book_stats['query_type'] = 'Occurences'\n",
        "    book_stats['query'] = pattern\n",
        "    book_stats['results'] = [(m.chapter_number, m.sentence_number) for m in book.find(pattern)]\n",
        "    stats.append(book_stats)\n",
        "\n",
        "with open('/gdrive/My Drive/test.json', 'w') as f:\n",
        "    json.dump(stats, f)"
      ],
      "execution_count": null,
      "outputs": [
        {
          "output_type": "display_data",
          "data": {
            "text/html": [
              "\n",
              "  <style>\n",
              "    pre {\n",
              "        white-space: pre-wrap;\n",
              "    }\n",
              "  </style>\n",
              "  "
            ],
            "text/plain": [
              "<IPython.core.display.HTML object>"
            ]
          },
          "metadata": {
            "tags": []
          }
        }
      ]
    },
    {
      "cell_type": "code",
      "metadata": {
        "id": "wQ1SgDIAEjkj",
        "colab_type": "code",
        "colab": {
          "base_uri": "https://localhost:8080/",
          "height": 1000
        },
        "outputId": "d4a9b909-74b9-46d9-c1c7-ec0b5540eb84"
      },
      "source": [
        "scraper = Scraper(urls)\n",
        "books = scraper.scrape(responses=responses[:1])\n",
        "\n",
        "for book in books:\n",
        "    print(f\"Book: {book.title}, {len(book)} Chapters\")\n",
        "    for chapter in book.chapters:\n",
        "        nl = '\\n'\n",
        "        print(f\"    Chapter: {chapter.title}\")\n",
        "        print(f\"        {len(chapter)} sentences\")\n",
        "        for sent in chapter.sentences:\n",
        "            print(sent[1])\n",
        "        break"
      ],
      "execution_count": null,
      "outputs": [
        {
          "output_type": "display_data",
          "data": {
            "text/html": [
              "\n",
              "  <style>\n",
              "    pre {\n",
              "        white-space: pre-wrap;\n",
              "    }\n",
              "  </style>\n",
              "  "
            ],
            "text/plain": [
              "<IPython.core.display.HTML object>"
            ]
          },
          "metadata": {
            "tags": []
          }
        },
        {
          "output_type": "stream",
          "text": [
            "Book: The Middle of Things, 29 Chapters\n",
            "    Chapter: Faced With Reality\n",
            "        155 sentences\n",
            "On that particular November evening, Viner, a young gentleman of means and leisure, who lived in a comfortable old house in Markendale Square, Bayswater, in company with his maiden aunt Miss Bethia Penkridge, had spent his after-dinner hours in a fashion which had become a habit.\n",
            "Miss Penkridge, a model housekeeper and an essentially worthy woman, whose whole day was given to supervising somebody or something, had an insatiable appetite for fiction, and loved nothing so much as that her nephew should read a novel to her after the two glasses of port which she allowed herself every night had been thoughtfully consumed and he and she had adjourned from the dining-room to the hearthrug in the library.\n",
            "Her tastes, however, in Viner's opinion were somewhat, if not decidedly, limited.\n",
            "Brought up in her youth on Miss Braddon, Wilkie Collins and Mrs.\n",
            "Henry Wood, Miss Penkridge had become a confirmed slave to the sensational.\n",
            "She had no taste for the psychological, and nothing but scorn for the erotic.\n",
            "What she loved was a story which began with crime and ended with a detection—a story which kept you wondering who did it, how it was done, and when the doing was going to be laid bare to the light of day.\n",
            "Nothing pleased her better than to go to bed with a brain titivated with the mysteries of the last three chapters; nothing gave her such infinite delight as to find, when the final pages were turned, that all her own theories were wrong, and that the real criminal was somebody quite other than the person she had fancied.\n",
            "For a novelist who was so little master of his trade as to let you see when and how things were going, Miss Penkridge had little but good-natured pity; for one who led you by all sorts of devious tracks to a startling and surprising sensation she cherished a whole-souled love; but for the creator of a plot who could keep his secret alive and burning to his last few sentences she felt the deepest thing that she could give to any human being—respect.\n",
            "Such a master was entered permanently on her mental library list.\n",
            "At precisely ten o'clock that evening Viner read the last page of a novel which had proved to be exactly suited to his aunt's tastes.\n",
            "A dead silence fell on the room, broken only by the crackling of the logs in the grate.\n",
            "Miss Penkridge dropped her knitting on her silk-gowned knees and stared at the leaping flames; her nephew, with an odd glance at her, rose from his easy-chair, picked up a pipe and began to fill it from a tobacco-jar on the mantelpiece.\n",
            "The clock had ticked several times before Miss Penkridge spoke.\n",
            "\"Well!\" she said, with the accompanying sigh which denotes complete content.\n",
            "\"So he did it!\n",
            "Now, I should never have thought it!\n",
            "The last person of the whole lot!\n",
            "Clever—very clever!\n",
            "Richard, you'll get all the books that that man has written!\" Viner lighted his pipe, thrust his hands in the pockets of his trousers and leaned back against the mantelpiece.\n",
            "\"My dear aunt!\" he said half-teasingly, half-seriously.\n",
            "\"You're worse than a drug-taker.\n",
            "Whatever makes a highly-respectable, shrewd old lady like you cherish such an insensate fancy for this sort of stuff?\n",
            "Stuff?\" demanded Miss Penkridge, who had resumed her knitting.\n",
            "\"Pooh!\n",
            " It's not stuff—it's life!\n",
            "Real life—in the form of fiction!\"\n",
            " Viner shook his head, pityingly.\n",
            "He never read fiction for his own amusement; his tastes in reading lay elsewhere, in solid directions.\n",
            "Moreover, in those directions he was a good deal of a student, and he knew more of his own library than of the world outside it.\n",
            "So he shook his head again.\n",
            "\"Life!\" he said.\n",
            "\"You don't mean to say that you think those things\"—he pointed a half-scornful finger to a pile of novels which had come in from Mudie's that day—\"really represent life?\n",
            "What else?\" demanded Miss Penkridge.\n",
            "\"Oh—I don't know,\" replied Viner vaguely.\n",
            "\"Fancy, I suppose, and imagination, and all that sort of thing—invention, you know, and so on.\n",
            "But—life!\n",
            "Do you really think such things happen in real life, as those we've been reading about?\n",
            "I don't think anything about it,\" retorted Miss Penkridge sturdily.\n",
            "\"I'm sure of it.\n",
            "I never had a novel yet, nor heard one read to me, that was half as strong as it might have been!\n",
            "Queer thing, one never hears or sees of these things, then!\" exclaimed  Viner.\n",
            "\"I never have!—and I've been on this planet thirty years.\"\n",
            " \"That sort of thing hasn't come your way, Richard,\" remarked Miss Penkridge sententiously.\n",
            "\"And you don't read the popular Sunday newspapers.\n",
            "I do!\n",
            "They're full of crime of all sorts.\n",
            "So's the world.\n",
            "And as to mysteries—well, I've known of two or three in my time that were much more extraordinary than any I've ever read of in novels.\n",
            "I should think so!\" Viner dropped into his easy-chair and stretched his legs.\n",
            "\"Such as—what?\" he asked.\n",
            "\"Well,\" answered Miss Penkridge, regarding her knitting with appraising eyes, \"there was a case that excited great interest when your poor mother and I were mere girls.\n",
            "It was in our town—young Quainton, the banker.\n",
            "He was about your age, married to a very pretty girl, and they'd a fine baby.\n",
            "He was immensely rich, a strong healthy young fellow, fond of life, popular, without a care in the world, so far as any one knew.\n",
            "One morning, after breakfasting with his wife, he walked away from his house, on the outskirts of the town—only a very small town, mind you—to go to the bank, as usual.\n",
            "He never reached the bank—in fact, he was never seen again, never heard of again.\n",
            "He'd only half a mile to walk, along a fairly frequented road, but—complete, absolute, final disappearance!\n",
            "And—never cleared up!\n",
            "Odd!\" agreed Viner.\n",
            "\"Very odd, indeed.\n",
            "Well—any more?\n",
            "Plenty!\" said Miss Penkridge, with a click of her needles.\n",
            "\"There was the case of poor young Lady Marshflower—as sweet a young thing as man could wish to see!\n",
            "Your mother and I saw her married—she was a Ravenstone, and only nineteen.\n",
            "She married Sir Thomas Marshflower, a man of forty.\n",
            "They'd only just come home from the honeymoon when it—happened.\n",
            "One morning Sir Thomas rode into the market-town to preside at the petty sessions—he hadn't been long gone when a fine, distinguished-looking man called, and asked to see Lady Marshflower.\n",
            "He was shown into the morning-room—she went to him.\n",
            "Five minutes later a shot was heard.\n",
            "The servants rushed in—to find their young mistress shot through the heart, dead.\n",
            "But the murderer?\n",
            "Disappeared as completely as last year's snow!\n",
            "That was never solved, never!\n",
            "Do you mean to tell me the man was never caught?\" exclaimed Viner.\n",
            "\"I tell you that not only was the man never caught, but that although Sir Thomas spent a fortune and nearly lost his senses in trying to find out who he was, what he wanted and what he had to do with Lady Marshflower, he never discovered one single fact!\" affirmed Miss Penkridge.\n",
            "\"There!\n",
            "That's queerer than the other,\" observed Viner.\n",
            "\"A veritable mystery!\n",
            "Veritable mysteries!\" said Miss Penkridge, with a sniff.\n",
            "\"The world's full of 'em!\n",
            "How many murders go undetected—how many burglaries are never traced—how many forgeries are done and never found out?\n",
            "Piles of 'em—as the police could tell you.\n",
            "And talking about forgeries, what about old Barrett, who was the great man at Pumpney, when your mother and I were girls there?\n",
            "That was a fine case of crime going on for years and years and years, undetected—aye, and not even suspected!\n",
            "What was it?\" asked Viner, who had begun by being amused and was now becoming interested.\n",
            "\"Who was Barrett?\n",
            "If you'd known Pumpney when we lived there,\" replied Miss Penkridge, \"you wouldn't have had to ask twice who Mr. Samuel Barrett was.\n",
            "He was everybody.\n",
            "He was everything—except honest.\n",
            "But nobody knew that—until it was too late.\n",
            "He was a solicitor by profession, but that was a mere nothing—in comparison.\n",
            "He was chief spirit in the place.\n",
            "I don't know how many times he wasn't mayor of Pumpney.\n",
            "He held all sorts of offices.\n",
            "He was a big man at the parish church—vicar's warden, and all that.\n",
            "And he was trustee for half the moneyed people in the town—everybody wanted Samuel Barrett, for trustee or executor; he was such a solid, respectable, square-toed man, the personification of integrity.\n",
            "And he died, suddenly, and then it was found that he'd led a double life, and had an establishment here in London, and was a gambler and a speculator, and Heaven knows what, and all the money that had been intrusted to him was nowhere, and he'd systematically forged, and cooked accounts, and embezzled corporation money—and he'd no doubt have gone on doing it for many a year longer if he hadn't had a stroke of apoplexy.\n",
            "And that wasn't in a novel!\" concluded Miss Penkridge triumphantly.\n",
            "\"Novels—Improbability—pooh!\n",
            "Judged by what some people can tell of life, the novel that's improbable hasn't yet been written!\n",
            "Well!\" remarked Viner after a pause, \"I dare say you're right, Aunt Bethia.\n",
            "Only, you see, I haven't come across the things in life that you read about in novels.\n",
            "You may yet,\" replied Miss Penkridge.\n",
            "\"But when anybody says to me of a novel that it's impossible and far-fetched and so on, I'm always inclined to remind him of the old adage.\n",
            "For you can take it from me, Richard, that truth is stranger than fiction, and that life's full of queer things.\n",
            "Only, as you say, we don't all come across the strange things.\" The silvery chime of the clock on the mantelpiece caused Miss Penkridge, at this point, to bring her work and her words to a summary conclusion.\n",
            "Hurrying her knitting into the hand-bag which she carried at her belt, she rose, kissed her nephew and departed bedward; while Viner, after refilling his pipe, proceeded to carry out another nightly proceeding which had become a habit.\n",
            "Every night, throughout the year, he always went for a walk before going to bed.\n",
            "And now, getting into an overcoat and pulling a soft cap over his head, he let himself out of the house, and crossing the square, turned down a side-street and marched slowly in the direction of the Bayswater Road.\n",
            "November though it was the night was fine and clear, and there was a half-moon in the heavens; also there was rather more than a suspicion of frost in the air, and the stars, accordingly, wore a more brilliant appearance.\n",
            "To one who loved night strolling, as Viner did, this was indeed an ideal night for the time of year; and on this occasion, therefore, he went further than usual going along Bayswater Road as far as Notting Hill Gate, and thence returning through the various streets and terraces which lay between Pembridge Gardens and Markendale Square.\n",
            "And while he strolled along, smoking his pipe, watching the twinkling lights of passing vehicles and enjoying the touch of frost, he was thinking, in a half-cynical, half-amused way, of his Aunt Bethia's taste for the sensational fiction and of her evidently sincere conviction that there were much stranger things in real life than could be found between the covers of any novel.\n",
            "\"Those were certainly two very odd instances which she gave me,\" he mused, \"those of the prosperous banker and the pretty bride.\n",
            "In the first, how on earth did the man contrive to get away unobserved from a town in which, presumably, every soul knew him?\n",
            "Why did he go?\n",
            "Did he go?\n",
            "Is his body lying at the bottom of some hole by some roadside?\n",
            "Was he murdered in broad daylight on a public road?\n",
            "Did he lose his reason or his memory, and wander away and away?\n",
            "I think, as my aunt sagely remarked, that nobody is ever going to find anything about that affair!\n",
            "Then my Lady Marshflower—there's a fine mystery!\n",
            "Who was the man?\n",
            "What did she know about him?\n",
            "Where had they met?\n",
            "Had they ever met?\n",
            "Why did he shoot her?\n",
            "How on earth did he contrive to disappear without leaving some trace?\n",
            "How—\" At this point Viner's musings and questionings were suddenly and rudely interrupted.\n",
            "Unconsciously he had walked back close to his own Square, but on the opposite side to that by which he had left it, approaching it by one of the numerous long terraces which run out of the main road in the Westbourne Grove district—when his musings were rudely interrupted.\n",
            "Between this terrace and Markendale Square was a narrow passage, little frequented save by residents, or by such folk familiar enough with the neighbourhood to know that it afforded a shortcut.\n",
            "Viner was about to turn into this passage, a dark affair set between high walls, when a young man darted hurriedly out of it, half collided with him, uttered a hasty word of apology, ran across the road and disappeared round the nearest corner.\n",
            "But just there stood a street-lamp, and in its glare Viner caught sight of the hurrying young man's face.\n",
            "And when the retreating footsteps had grown faint, Viner still stood staring in the direction in which they had gone.\n",
            "\"That's strange!\" he muttered.\n",
            "\"I've seen that chap somewhere—I know him.\n",
            "Now, who is he?\n",
            "And what made him in such a deuce of a hurry?\" It was very quiet at that point.\n",
            "There seemed to be nobody about.\n",
            "Behind him, far down the long, wide terrace, he heard slow, measured steps—that, of course, was a policeman on his beat.\n",
            "But beyond the subdued murmur of the traffic in the Bayswater Road in one direction and in Bishop's Road, Viner heard nothing but those measured steps.\n",
            "And after listening to them for a minute, he turned into the passage out of which the young man had just rushed so unceremoniously.\n",
            "There was just one lamp in that passage—an old-fashioned affair, fixed against the wall, halfway down.\n",
            "It threw but little light on its surroundings.\n",
            "Those surroundings were ordinary enough.\n",
            "The passage itself was about thirty yards in length.\n",
            "It was inclosed on each-side by old brick walls, so old that the brick had grown black with age and smoke.\n",
            "These walls were some fifteen feet in height; here and there they were pierced by doors—the doors of the yards at the rear of the big houses on either side.\n",
            "The doors were set flush with the walls—Viner, who often walked through that passage at night, and who had something of a whimsical fancy, had thought more than once that after nightfall the doors looked as if they had never been opened, never shut.\n",
            "There was an air of queer, cloistral or prisonlike security in their very look.\n",
            "They were all shut now, as he paced down the passage, as lonely a place at that hour as you could find in all London.\n",
            "It was queer, he reflected, that he scarcely ever remembered meeting anybody in that passage.\n",
            "And then he suddenly paused, pulling himself up with a strange consciousness that at last he was to meet something.\n",
            "Beneath the feeble light of the one lamp Viner saw a man.\n",
            "Not a man walking, or standing still, or leaning against the wall, but lying full length across the flagged pavement, motionless—so motionless that at the end of the first moment of surprise, Viner felt sure that he was in the presence of death.\n",
            "And then he stole nearer, listening, and looked down, and drawing his match-box from his pocket added the flash of a match to the poor rays from above.\n",
            "Then he saw white linen, and a bloodstain slowly spreading over its glossy surface.\n"
          ],
          "name": "stdout"
        }
      ]
    },
    {
      "cell_type": "code",
      "metadata": {
        "id": "fKMLyuSWYC0o",
        "colab_type": "code",
        "colab": {
          "base_uri": "https://localhost:8080/",
          "height": 69
        },
        "outputId": "3a71ab30-cb81-4cc9-8ac2-a2cd5ad4c8ce"
      },
      "source": [
        "scraper = Scraper(urls)\n",
        "books = scraper.scrape(responses=responses)\n",
        "\n",
        "all_matches = books[0].find(\"Ashton\")\n",
        "for match in all_matches:\n",
        "    print(f'Found a match in Chapter {match.chapter_number}, Sentence {match.sentence_number}')\n",
        "    print(f'Sentence Text: {match.text}')\n",
        "    print(match.matches[0].group(0))\n",
        "    break"
      ],
      "execution_count": null,
      "outputs": [
        {
          "output_type": "stream",
          "text": [
            "Found a match in Chapter 2, Sentence 23\n",
            "Sentence Text: \"Mr. Ashton!\" \"You know him?\" said Viner.\n",
            "Ashton\n"
          ],
          "name": "stdout"
        }
      ]
    },
    {
      "cell_type": "code",
      "metadata": {
        "id": "DMwQfrFrzw40",
        "colab_type": "code",
        "colab": {
          "base_uri": "https://localhost:8080/",
          "height": 55
        },
        "outputId": "24e3925d-5466-44fd-bdaf-a651e4765860"
      },
      "source": [
        "print(books)"
      ],
      "execution_count": null,
      "outputs": [
        {
          "output_type": "stream",
          "text": [
            "[The Middle of Things by J. S. Fletcher, released in February, 2006 and contains 29 chapters., Scarhaven Keep by J. S. Fletcher, released in February, 2006 and contains 31 chapters., The Talleyrand Maxim by J. S. Fletcher, released in February, 2006 and contains 28 chapters., The Middle Temple Murder by J.S. Fletcher, released in December 3, 2003 and contains 36 chapters., The Rayner-Slade Amalgamation by J. S. Fletcher, released in December 12, 2003 and contains 35 chapters.]\n"
          ],
          "name": "stdout"
        }
      ]
    }
  ]
}